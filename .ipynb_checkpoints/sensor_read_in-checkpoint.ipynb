{
 "cells": [
  {
   "cell_type": "code",
   "execution_count": null,
   "id": "08e7adad",
   "metadata": {},
   "outputs": [],
   "source": [
    "# This in a simple file to record any data output by the sensor in a csv format during it's 'burn in' period"
   ]
  },
  {
   "cell_type": "code",
   "execution_count": 1,
   "id": "4055ee6f",
   "metadata": {},
   "outputs": [
    {
     "ename": "ModuleNotFoundError",
     "evalue": "No module named 'serial'",
     "output_type": "error",
     "traceback": [
      "\u001b[1;31m---------------------------------------------------------------------------\u001b[0m",
      "\u001b[1;31mModuleNotFoundError\u001b[0m                       Traceback (most recent call last)",
      "Cell \u001b[1;32mIn[1], line 1\u001b[0m\n\u001b[1;32m----> 1\u001b[0m \u001b[38;5;28;01mimport\u001b[39;00m \u001b[38;5;21;01mserial\u001b[39;00m\n\u001b[0;32m      2\u001b[0m \u001b[38;5;28;01mimport\u001b[39;00m \u001b[38;5;21;01mtime\u001b[39;00m\n\u001b[0;32m      3\u001b[0m \u001b[38;5;28;01mimport\u001b[39;00m \u001b[38;5;21;01mcsv\u001b[39;00m\n",
      "\u001b[1;31mModuleNotFoundError\u001b[0m: No module named 'serial'"
     ]
    }
   ],
   "source": [
    "import serial\n",
    "import time\n",
    "import csv\n",
    "\n",
    "# Serial Port Configuration\n",
    "serial_port = 'COM5'  \n",
    "baud_rate = 9600\n",
    "\n",
    "# Open the serial port\n",
    "try:\n",
    "    ser = serial.Serial(serial_port, baud_rate)\n",
    "except serial.SerialException:\n",
    "    print(\"Could not open serial port:\", serial_port)\n",
    "    exit()\n",
    "\n",
    "# File Creation\n",
    "with open('sensor_data.csv', 'w', newline='') as csvfile:\n",
    "    data_writer = csv.writer(csvfile)\n",
    "    data_writer.writerow(['Time', 'Temperature', 'Pressure', 'Humidity', 'Gas Resistance', ...])  # Add header row\n",
    "\n",
    "    # Data Reading Loop\n",
    "    while True:\n",
    "        try:\n",
    "            line = ser.readline().decode('utf-8').strip()\n",
    "            if line:  # Make sure there's data\n",
    "                data = line.split(',')\n",
    "                timestamp = data[0]  # Assuming the timestamp is the first element\n",
    "                sensor_data = data[1:] \n",
    "                data_writer.writerow([timestamp] + sensor_data) \n",
    "        except Exception as e:\n",
    "            print(\"Error reading or writing data:\", e)\n",
    "\n",
    "ser.close()  # Close the serial port when finished"
   ]
  },
  {
   "cell_type": "code",
   "execution_count": null,
   "id": "435f7ec0",
   "metadata": {},
   "outputs": [],
   "source": []
  }
 ],
 "metadata": {
  "kernelspec": {
   "display_name": "Python 3 (ipykernel)",
   "language": "python",
   "name": "python3"
  },
  "language_info": {
   "codemirror_mode": {
    "name": "ipython",
    "version": 3
   },
   "file_extension": ".py",
   "mimetype": "text/x-python",
   "name": "python",
   "nbconvert_exporter": "python",
   "pygments_lexer": "ipython3",
   "version": "3.11.5"
  }
 },
 "nbformat": 4,
 "nbformat_minor": 5
}
